{
 "metadata": {
  "language_info": {
   "codemirror_mode": {
    "name": "ipython",
    "version": 3
   },
   "file_extension": ".py",
   "mimetype": "text/x-python",
   "name": "python",
   "nbconvert_exporter": "python",
   "pygments_lexer": "ipython3",
   "version": "3.7.7-final"
  },
  "orig_nbformat": 2,
  "kernelspec": {
   "name": "python3",
   "display_name": "Python 3.7.7 64-bit",
   "metadata": {
    "interpreter": {
     "hash": "ca35beca1e73f0e8e48de5d26c91c8a581bc78491f6978c6ebd776970508bb03"
    }
   }
  }
 },
 "nbformat": 4,
 "nbformat_minor": 2,
 "cells": [
  {
   "source": [
    "### Вычислить определитель:\n",
    "\n",
    "   a) $$\\begin{vmatrix}\n",
    "sinx & -cosx\\\\ \n",
    "cosx & sinx\n",
    "\\end{vmatrix};$$\n",
    "\n",
    "   б) $$\\begin{vmatrix}\n",
    "4 & 2 & 3\\\\ \n",
    "0 & 5 & 1\\\\ \n",
    "0 & 0 & 9\n",
    "\\end{vmatrix};$$\n",
    "    \n",
    "   в) $$\\begin{vmatrix}\n",
    "1 & 2 & 3\\\\ \n",
    "4 & 5 & 6\\\\ \n",
    "7 & 8 & 9\n",
    "\\end{vmatrix}.$$"
   ],
   "cell_type": "markdown",
   "metadata": {}
  },
  {
   "cell_type": "code",
   "execution_count": 23,
   "metadata": {},
   "outputs": [
    {
     "output_type": "stream",
     "name": "stdout",
     "text": [
      "а) sin^2(x) + cos^2()x\nб) 180.0\nв) 0.0\n"
     ]
    }
   ],
   "source": [
    "import numpy as np\n",
    "\n",
    "A = np.array([(4, 2, 3), (0, 5, 1), (0, 0, 9)])\n",
    "B = np.array([(1, 2, 3), (4, 5, 6), (7, 8, 9)])\n",
    "\n",
    "print(f'а) sin^2(x) + cos^2()x')\n",
    "print(f'б) {np.linalg.det(A)}')\n",
    "print(f'в) {np.linalg.det(B)}')"
   ]
  },
  {
   "source": [
    "### Определитель матрицы $A$ равен $4$. Найти:\n",
    "\n",
    "   а) $det(A^{2})$;\n",
    "    \n",
    "   б) $det(A^{T})$;\n",
    "    \n",
    "   в) $det(2A)$."
   ],
   "cell_type": "markdown",
   "metadata": {}
  },
  {
   "source": [
    "   а) $det(A^{2}) = det(A * A) = det(A) * det(A) = 16$\n",
    "    \n",
    "   б) $det(A^{T}) = det(A) = 4$\n",
    "    \n",
    "   в) $det(2A) = 8 (?)$"
   ],
   "cell_type": "markdown",
   "metadata": {}
  },
  {
   "source": [
    "### Доказать, что матрица\n",
    "\n",
    "$\\begin{pmatrix} -2 & 7 & -3\\\\ \n",
    "4 & -14 & 6\\\\ \n",
    "-3 & 7 & 13 \\end{pmatrix}$\n",
    "   \n",
    "вырожденная."
   ],
   "cell_type": "markdown",
   "metadata": {}
  },
  {
   "cell_type": "code",
   "execution_count": 4,
   "metadata": {},
   "outputs": [
    {
     "output_type": "stream",
     "name": "stdout",
     "text": [
      "Детерминант равен нулю, следовательно матрица вырожденная\n"
     ]
    }
   ],
   "source": [
    "import numpy as np\n",
    "\n",
    "A = np.array([(-2, 7, -3), (4, -14, 6), (-3, 7, 13)])\n",
    "\n",
    "det_A = np.linalg.det(A)\n",
    "print(f'{\"Детерминант равен нулю, следовательно матрица вырожденная\" if det_A == 0 else \"Детерминант не равен нулю, следовательно матрица невырожденная\"}')"
   ]
  },
  {
   "source": [
    "### Найти ранг матрицы:\n",
    "\n",
    "   а) $\\begin{pmatrix}\n",
    "1 & 2 & 3\\\\ \n",
    "1 & 1 & 1\\\\ \n",
    "2 & 3 & 4\n",
    "\\end{pmatrix};$\n",
    "\n",
    "   б) $\\begin{pmatrix}\n",
    "0 & 0 & 2 & 1\\\\ \n",
    "0 & 0 & 2 & 2\\\\ \n",
    "0 & 0 & 4 & 3\\\\ \n",
    "2 & 3 & 5 & 6\n",
    "\\end{pmatrix}.$"
   ],
   "cell_type": "markdown",
   "metadata": {}
  },
  {
   "cell_type": "code",
   "execution_count": 24,
   "metadata": {},
   "outputs": [
    {
     "output_type": "stream",
     "name": "stdout",
     "text": [
      "а) 2\nб) 3\n"
     ]
    }
   ],
   "source": [
    "import numpy as np\n",
    "\n",
    "A = np.array([(1, 2, 3), (1, 1, 1), (2, 3, 4)])\n",
    "B = np.array([(0, 0, 2, 1), (0, 0, 2, 2), (0, 0, 4, 3), (2, 3, 5, 6)])\n",
    "\n",
    "print(f'а) {np.linalg.matrix_rank(A)}')\n",
    "print(f'б) {np.linalg.matrix_rank(B)}')"
   ]
  }
 ]
}