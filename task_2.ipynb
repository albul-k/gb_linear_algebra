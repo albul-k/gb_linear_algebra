{
 "metadata": {
  "language_info": {
   "codemirror_mode": {
    "name": "ipython",
    "version": 3
   },
   "file_extension": ".py",
   "mimetype": "text/x-python",
   "name": "python",
   "nbconvert_exporter": "python",
   "pygments_lexer": "ipython3",
   "version": "3.7.7-final"
  },
  "orig_nbformat": 2,
  "kernelspec": {
   "name": "python3",
   "display_name": "Python 3.7.7 64-bit",
   "metadata": {
    "interpreter": {
     "hash": "ca35beca1e73f0e8e48de5d26c91c8a581bc78491f6978c6ebd776970508bb03"
    }
   }
  }
 },
 "nbformat": 4,
 "nbformat_minor": 2,
 "cells": [
  {
   "source": [
    "### Решить систему уравнений методом Крамера:\n",
    "\n",
    "   а) $\\begin{cases}\n",
    "x_{1}-2x_{2}=1 \\\\\n",
    "3x_{1}-4x_{2}=7\n",
    "\\end{cases}$\n",
    "    \n",
    "   б) $\\begin{cases}\n",
    "2x_{1}-x_{2}+5x_{3}=10 \\\\\n",
    "x_{1}+x_{2}-3x_{3}=-2 \\\\\n",
    "2x_{1}+4x_{2}+x_{3}=1\n",
    "\\end{cases}$"
   ],
   "cell_type": "markdown",
   "metadata": {}
  },
  {
   "cell_type": "code",
   "execution_count": 7,
   "metadata": {},
   "outputs": [
    {
     "output_type": "stream",
     "name": "stdout",
     "text": [
      "a) x_1:5.0, x_2:2.0\nб) x_1:2.0, x_2:-1.0, x_3:-1.0\n"
     ]
    }
   ],
   "source": [
    "import numpy as np\n",
    "\n",
    "A = np.array([[1, -2], [3, -4]])\n",
    "A_1 = np.array([[1, -2], [7, -4]])\n",
    "A_2 = np.array([[1, 1], [3, 7]])\n",
    "\n",
    "det_A = np.linalg.det(A)\n",
    "det_A_1 = np.linalg.det(A_1)\n",
    "det_A_2 = np.linalg.det(A_2)\n",
    "\n",
    "###################################\n",
    "\n",
    "B = np.array([[2, -1, 5], [1, 1, -3], [2, 4, 1]])\n",
    "B_1 = np.array([[10, -1, 5], [-2, 1, -3], [1, 4, 1]])\n",
    "B_2 = np.array([[2, 10, 5], [1, -2, -3], [2, 1, 1]])\n",
    "B_3 = np.array([[2, -1, 10], [1, 1, -2], [2, 4, 1]])\n",
    "\n",
    "det_B = np.linalg.det(B)\n",
    "det_B_1 = np.linalg.det(B_1)\n",
    "det_B_2 = np.linalg.det(B_2)\n",
    "\n",
    "print(f'a) x_1:{round(det_A_1/det_A,0)}, x_2:{round(det_A_2/det_A,0)}')\n",
    "print(f'б) x_1:{round(det_B_1/det_B,0)}, x_2:{round(det_B_2/det_B,0)}, x_3:{round(det_B_2/det_B,0)}')"
   ]
  }
 ]
}