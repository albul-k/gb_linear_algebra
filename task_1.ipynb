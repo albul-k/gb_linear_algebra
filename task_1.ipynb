{
 "metadata": {
  "language_info": {
   "codemirror_mode": {
    "name": "ipython",
    "version": 3
   },
   "file_extension": ".py",
   "mimetype": "text/x-python",
   "name": "python",
   "nbconvert_exporter": "python",
   "pygments_lexer": "ipython3",
   "version": 3
  },
  "orig_nbformat": 2
 },
 "nbformat": 4,
 "nbformat_minor": 2,
 "cells": [
  {
   "source": [
    "### Исследовать на линейную зависимость:\n",
    "\n",
    "$$f_{1}(x)=e^{x}, f_{2}(x)=1, f_{3}(x)=x+1, f_{4}(x)=x-e^{x}.$$\n"
   ],
   "cell_type": "markdown",
   "metadata": {}
  },
  {
   "source": [
    "$$ f_{4}(x)=f_{3}(x) - f_{2}(x) - f_{1}(x) $$\n",
    "Линейно зависимы"
   ],
   "cell_type": "markdown",
   "metadata": {}
  },
  {
   "source": [
    "### Исследовать на линейную зависимость:\n",
    "$$f_{1}(x)=2, f_{2}(x)=x, f_{3}(x)=x^{2}, f_{4}(x)=(x+1)^{2}$$"
   ],
   "cell_type": "markdown",
   "metadata": {}
  },
  {
   "source": [
    "$$f_{4}(x)=x^{2} + 2x + 1$$\n",
    "$$f_{4}(x)=f_{3}(x) + f_{1}(x)*f_{2}(x) + 1$$\n",
    "Линейно зависимы"
   ],
   "cell_type": "markdown",
   "metadata": {}
  },
  {
   "source": [
    "### Найти координаты вектора $x = (2, 3, 5)\\in \\mathbb{R}^{3}$ в базисе $b_{1}=(0, 0, 10)$, $b_{2}=(2, 0, 0)$, $b_{3}=(0, 1, 0)$.\n"
   ],
   "cell_type": "markdown",
   "metadata": {}
  },
  {
   "source": [
    "$$ (2,0,0) + (0,3,0) + (0,0,5) = (2, 0, 0) + 3(0,1,0) + \\frac{1}{2}(0,0,10)=b_2 + 3*b_3 + \\frac{1}{2}*b_1 $$\n",
    "$$ (\\frac{1}{2}, 1, 3) $$"
   ],
   "cell_type": "markdown",
   "metadata": {}
  },
  {
   "source": [
    "### Найти координаты вектора $3x^{2}-2x+2\\in\\mathbb{R}^{3}[x]$:\n",
    "\n",
    "а) в базисе $1$, $x$, $x^{2}$;\n",
    "\n",
    "б) в базисе $x^{2}$, $x-1$, $1$."
   ],
   "cell_type": "markdown",
   "metadata": {}
  },
  {
   "source": [
    "a) $ (2, -2, 3) $<br>\n",
    "б) $ (3, -2, 0) $"
   ],
   "cell_type": "markdown",
   "metadata": {}
  },
  {
   "source": [
    "### Установить, является ли линейным подпространством:\n",
    "\n",
    "а) совокупность всех векторов трехмерного пространства, у которых по крайней мере одна из первых двух координат равна нулю;\n",
    "    \n",
    "б) все векторы, являющиеся линейными комбинациями данных векторов $\\{u_{1}, u_{2}, \\ldots, u_{n}\\}$."
   ],
   "cell_type": "markdown",
   "metadata": {}
  },
  {
   "source": [
    "а) $(0, a, b)+(0, c, d) = (0, a+c, b+d),$$ $$\\alpha\\cdot (0, a, b) = (0, \\alpha a, \\alpha b)$ <br>\n",
    "множество является подпространством линейного пространства<br><br>\n",
    "б) совокупность всех линейных комбинаций векторов образуют подпространство исходного линейного пространства (да?)"
   ],
   "cell_type": "markdown",
   "metadata": {}
  }
 ]
}