{
 "metadata": {
  "language_info": {
   "codemirror_mode": {
    "name": "ipython",
    "version": 3
   },
   "file_extension": ".py",
   "mimetype": "text/x-python",
   "name": "python",
   "nbconvert_exporter": "python",
   "pygments_lexer": "ipython3",
   "version": "3.7.7-final"
  },
  "orig_nbformat": 2,
  "kernelspec": {
   "name": "python3",
   "display_name": "Python 3.7.7 64-bit",
   "metadata": {
    "interpreter": {
     "hash": "ca35beca1e73f0e8e48de5d26c91c8a581bc78491f6978c6ebd776970508bb03"
    }
   }
  }
 },
 "nbformat": 4,
 "nbformat_minor": 2,
 "cells": [
  {
   "source": [
    "### Установить, какие произведения матриц $AB$ и $BA$ определены, и найти размерности полученных матриц:\n",
    "\n",
    "   а) $A$ — матрица $4\\times 2$, $B$ — матрица $4\\times 2$;\n",
    "    \n",
    "   б) $A$ — матрица $2\\times 5$, $B$ — матрица $5\\times 3$;\n",
    "    \n",
    "   в) $A$ — матрица $8\\times 3$, $B$ — матрица $3\\times 8$;\n",
    "    \n",
    "   г) $A$ — квадратная матрица $4\\times 4$, $B$ — квадратная матрица $4\\times 4$."
   ],
   "cell_type": "markdown",
   "metadata": {}
  },
  {
   "source": [
    "   а) произведения матриц определены; размерность (4,2)\n",
    "    \n",
    "   б) произведения матриц не определены\n",
    "    \n",
    "   в) произведения матриц не определены\n",
    "    \n",
    "   г) произведения матриц определены; размерность (4,4)"
   ],
   "cell_type": "markdown",
   "metadata": {}
  },
  {
   "source": [
    "### Найти сумму и произведение матриц \n",
    "$A=\\begin{pmatrix}\n",
    "1 & -2\\\\ \n",
    "3 & 0\n",
    "\\end{pmatrix}$ и $B=\\begin{pmatrix}\n",
    "4 & -1\\\\ \n",
    "0 & 5\n",
    "\\end{pmatrix}.$"
   ],
   "cell_type": "markdown",
   "metadata": {}
  },
  {
   "cell_type": "code",
   "execution_count": 23,
   "metadata": {},
   "outputs": [
    {
     "output_type": "stream",
     "name": "stdout",
     "text": [
      "Сумма:\n[[ 5 -3]\n [ 3  5]]\n\nПроизведение:\n[[4 2]\n [0 0]]\n"
     ]
    }
   ],
   "source": [
    "import numpy as np\n",
    "\n",
    "A = np.array([(1, -2),(3, 0)])\n",
    "B = np.array([(4, -1),(0, 5)])\n",
    "\n",
    "print(f'Сумма:\\n{A + B}')\n",
    "print(f'\\nПроизведение:\\n{A * B}')"
   ]
  },
  {
   "source": [
    "\n",
    "### Из закономерностей сложения и умножения матриц на число можно сделать вывод, что матрицы одного размера образуют линейное пространство. Вычислить линейную комбинацию \n",
    "$3A-2B+4C$ для матриц $A=\\begin{pmatrix}\n",
    "1 & 7\\\\ \n",
    "3 & -6\n",
    "\\end{pmatrix}$, $B=\\begin{pmatrix}\n",
    "0 & 5\\\\ \n",
    "2 & -1\n",
    "\\end{pmatrix}$, $C=\\begin{pmatrix}\n",
    "2 & -4\\\\ \n",
    "1 & 1\n",
    "\\end{pmatrix}.$"
   ],
   "cell_type": "markdown",
   "metadata": {}
  },
  {
   "cell_type": "code",
   "execution_count": 24,
   "metadata": {},
   "outputs": [
    {
     "output_type": "stream",
     "name": "stdout",
     "text": [
      "[[ 11  -5]\n [  9 -12]]\n"
     ]
    }
   ],
   "source": [
    "import numpy as np\n",
    "\n",
    "A = np.array([(1, 7),(3, -6)])\n",
    "B = np.array([(0, 5),(2, -1)])\n",
    "C = np.array([(2, -4),(1, 1)])\n",
    "\n",
    "result = 3*A - 2*B + 4*C\n",
    "print(result)"
   ]
  },
  {
   "source": [
    "### Дана матрица \n",
    "$A=\\begin{pmatrix}\n",
    "4 & 1\\\\ \n",
    "5 & -2\\\\ \n",
    "2 & 3\n",
    "\\end{pmatrix}$.\n",
    "Вычислить $AA^{T}$ и $A^{T}A$."
   ],
   "cell_type": "markdown",
   "metadata": {}
  },
  {
   "source": [],
   "cell_type": "markdown",
   "metadata": {}
  },
  {
   "source": [
    "### *Написать на Python функцию для перемножения двух произвольных матриц, не используя NumPy."
   ],
   "cell_type": "markdown",
   "metadata": {}
  },
  {
   "cell_type": "code",
   "execution_count": 83,
   "metadata": {},
   "outputs": [
    {
     "output_type": "stream",
     "name": "stdout",
     "text": [
      "[[48, 30, 55], [34, 26, 56], [-26, -14, 6]]\n\nПроверка:\n[[ 48  30  55]\n [ 34  26  56]\n [-26 -14   6]]\n"
     ]
    }
   ],
   "source": [
    "import numpy as np\n",
    "\n",
    "def dot(A, B):\n",
    "    C = []\n",
    "    for k in range(0, A.shape[0]):\n",
    "        a = A[k, :]\n",
    "        C_ = []\n",
    "        for j in range(0, B.shape[0]):\n",
    "            b = B[:, j]\n",
    "            c = 0\n",
    "            for i in zip(a, b):\n",
    "                c += i[0] * i[1]\n",
    "            C_.append(c)\n",
    "        C.append(C_)\n",
    "    \n",
    "    return C\n",
    "\n",
    "A = np.array([(1, 7, 3), (3, 4, 5), (3, -6, 5)])\n",
    "B = np.array([(0, 5, 2), (6, 4, 5), (2, -1, 6)])\n",
    "print(dot(A, B))\n",
    "\n",
    "print(f'\\nПроверка:\\n{np.dot(A, B)}')"
   ]
  }
 ]
}