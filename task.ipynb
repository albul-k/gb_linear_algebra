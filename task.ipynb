{
 "metadata": {
  "language_info": {
   "codemirror_mode": {
    "name": "ipython",
    "version": 3
   },
   "file_extension": ".py",
   "mimetype": "text/x-python",
   "name": "python",
   "nbconvert_exporter": "python",
   "pygments_lexer": "ipython3",
   "version": "3.7.7-final"
  },
  "orig_nbformat": 2,
  "kernelspec": {
   "name": "python3",
   "display_name": "Python 3.7.7 64-bit",
   "metadata": {
    "interpreter": {
     "hash": "ca35beca1e73f0e8e48de5d26c91c8a581bc78491f6978c6ebd776970508bb03"
    }
   }
  }
 },
 "nbformat": 4,
 "nbformat_minor": 2,
 "cells": [
  {
   "source": [
    "### Найти с помощью NumPy SVD для матрицы\n",
    "\n",
    "$\\begin{pmatrix}\n",
    "1 & 2 & 0\\\\ \n",
    "0 & 0 & 5\\\\ \n",
    "3 & -4 & 2\\\\ \n",
    "1 & 6 & 5\\\\ \n",
    "0 & 1 & 0\n",
    "\\end{pmatrix}.$\n",
    "\n",
    "\n",
    "### Для матрицы из предыдущего задания найти:\n",
    "\n",
    "а) евклидову норму;\n",
    "    \n",
    "б) норму Фробениуса."
   ],
   "cell_type": "markdown",
   "metadata": {}
  },
  {
   "cell_type": "code",
   "execution_count": 10,
   "metadata": {},
   "outputs": [
    {
     "output_type": "stream",
     "name": "stdout",
     "text": [
      "Матрица A:\n[[ 1  2  0]\n [ 0  0  5]\n [ 3 -4  2]\n [ 1  6  5]\n [ 0  1  0]]\n\nМатрица D:\n[[8.82 0.   0.  ]\n [0.   6.14 0.  ]\n [0.   0.   2.53]\n [0.   0.   0.  ]\n [0.   0.   0.  ]]\n\nМатрица U:\n[[ 0.17  0.16 -0.53 -0.8  -0.16]\n [ 0.39 -0.53  0.61 -0.43  0.03]\n [-0.14 -0.82 -0.52  0.14  0.07]\n [ 0.89  0.06 -0.25  0.38 -0.06]\n [ 0.08  0.11 -0.08 -0.11  0.98]]\n\nПроверка ортогональности матрицы U:\n[[ 1.  0. -0.  0. -0.]\n [ 0.  1.  0.  0.  0.]\n [-0.  0.  1. -0. -0.]\n [ 0.  0. -0.  1. -0.]\n [-0.  0. -0. -0.  1.]]\n\nМатрица V:\n[[ 0.07 -0.37 -0.93]\n [ 0.72  0.67 -0.21]\n [ 0.69 -0.65  0.31]]\n\nПроверка ортогональности матрицы V:\n[[ 1.  0. -0.]\n [ 0.  1. -0.]\n [-0. -0.  1.]]\n\nПроверка: \n[[ 1.  2.  0.]\n [ 0. -0.  5.]\n [ 3. -4.  2.]\n [ 1.  6.  5.]\n [-0.  1. -0.]]\n"
     ]
    }
   ],
   "source": [
    "import numpy as np\n",
    "np.set_printoptions(precision=2, suppress=True)\n",
    "\n",
    "A = np.array([[1, 2, 0],\n",
    "              [0, 0, 5],\n",
    "              [3, -4, 2],\n",
    "              [1, 6, 5],\n",
    "              [0, 1, 0]])\n",
    "print(f'Матрица A:\\n{A}\\n')\n",
    "\n",
    "\n",
    "U, s, W = np.linalg.svd(A)\n",
    "\n",
    "# Транспонируем матрицу W\n",
    "V = W.T\n",
    "\n",
    "# s - список диагональных элементов, его нужно привести к виду диагональной матрицы для наглядности\n",
    "D = np.zeros_like(A, dtype=float)\n",
    "D[np.diag_indices(min(A.shape))] = s\n",
    "\n",
    "print(f'Матрица D:\\n{D}\\n')\n",
    "print(f'Матрица U:\\n{U}\\n')\n",
    "print(f'Проверка ортогональности матрицы U:\\n{np.dot(U.T, U)}\\n')\n",
    "print(f'Матрица V:\\n{V}\\n')\n",
    "print(f'Проверка ортогональности матрицы V:\\n{np.dot(V.T, V)}\\n')\n",
    "\n",
    "# Проведем проверку\n",
    "print(f'Проверка: \\n{np.dot(np.dot(U, D), V.T)}')"
   ]
  },
  {
   "cell_type": "code",
   "execution_count": 21,
   "metadata": {},
   "outputs": [
    {
     "output_type": "stream",
     "name": "stdout",
     "text": [
      "а) 122.00000000000001\nб) 11.045361017187261\n"
     ]
    }
   ],
   "source": [
    "import numpy as np\n",
    "\n",
    "A = np.array([[1, 2, 0],\n",
    "              [0, 0, 5],\n",
    "              [3, -4, 2],\n",
    "              [1, 6, 5],\n",
    "              [0, 1, 0]])\n",
    "\n",
    "print(f'а) {np.linalg.norm(A)**2}')\n",
    "print(f'б) {np.linalg.norm(A)}')"
   ]
  }
 ]
}