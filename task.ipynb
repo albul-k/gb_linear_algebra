{
 "metadata": {
  "language_info": {
   "codemirror_mode": {
    "name": "ipython",
    "version": 3
   },
   "file_extension": ".py",
   "mimetype": "text/x-python",
   "name": "python",
   "nbconvert_exporter": "python",
   "pygments_lexer": "ipython3",
   "version": "3.7.7-final"
  },
  "orig_nbformat": 2,
  "kernelspec": {
   "name": "python3",
   "display_name": "Python 3.7.7 64-bit",
   "metadata": {
    "interpreter": {
     "hash": "ca35beca1e73f0e8e48de5d26c91c8a581bc78491f6978c6ebd776970508bb03"
    }
   }
  }
 },
 "nbformat": 4,
 "nbformat_minor": 2,
 "cells": [
  {
   "source": [
    "### Найти собственные векторы и собственные значения для линейного оператора, заданного матрицей\n",
    "\n",
    "$A=\\begin{pmatrix}\n",
    "-1 & -6\\\\ \n",
    "2 & 6\n",
    "\\end{pmatrix}.$\n",
    "\n"
   ],
   "cell_type": "markdown",
   "metadata": {}
  },
  {
   "cell_type": "code",
   "execution_count": 4,
   "metadata": {},
   "outputs": [
    {
     "output_type": "stream",
     "name": "stdout",
     "text": [
      "Матрица A:\n[[-1 -6]\n [ 2  6]]\n\nСобственные значения:\n[2. 3.]\n\nСобственные векторы:\n[[-0.89  0.83]\n [ 0.45 -0.55]]\n"
     ]
    }
   ],
   "source": [
    "import numpy as np\n",
    "np.set_printoptions(precision=2, suppress=True)\n",
    "\n",
    "a = np.array([[-1, -6], [2, 6]])\n",
    "w, v = np.linalg.eig(a)\n",
    "\n",
    "print(f'Матрица A:\\n{a}')\n",
    "print(f'\\nСобственные значения:\\n{w}')\n",
    "print(f'\\nСобственные векторы:\\n{v}')"
   ]
  },
  {
   "source": [
    "\n",
    "### Дан оператор поворота на 180 градусов, задаваемый матрицей \n",
    "\n",
    "$A=\\begin{pmatrix}\n",
    "-1 & 0\\\\ \n",
    "0 & -1\n",
    "\\end{pmatrix}.$\n",
    "\n",
    "Показать, что __любой__ вектор является для него собственным."
   ],
   "cell_type": "markdown",
   "metadata": {}
  },
  {
   "cell_type": "code",
   "execution_count": 32,
   "metadata": {},
   "outputs": [
    {
     "output_type": "stream",
     "name": "stdout",
     "text": [
      "Вектор #1: \n[[-1]\n [ 0]]\nСкалярное произведение #1: \n[[1]\n [0]]\nlambda=-1\n\nВектор #2: \n[[-1]\n [ 1]]\nСкалярное произведение #2: \n[[ 1]\n [-1]]\nlambda=-1\n\n"
     ]
    }
   ],
   "source": [
    "import numpy as np\n",
    "\n",
    "a = np.array([[-1, 0], [0, -1]])\n",
    "x_1 = np.array([[-1], [0]])\n",
    "x_2 = np.array([[-1], [1]])\n",
    "\n",
    "print(f'Вектор #1: \\n{x_1}')\n",
    "print(f'Скалярное произведение #1: \\n{np.dot(a, x_1)}')\n",
    "print(f'lambda=-1\\n')\n",
    "print(f'Вектор #2: \\n{x_2}')\n",
    "print(f'Скалярное произведение #2: \\n{np.dot(a, x_2)}')\n",
    "print(f'lambda=-1\\n')"
   ]
  },
  {
   "source": [
    "### Пусть линейный оператор задан матрицей\n",
    "\n",
    "$A=\\begin{pmatrix}\n",
    "1 & 1\\\\ \n",
    "-1 & 3\n",
    "\\end{pmatrix}.$\n",
    "\n",
    "Установить, является ли вектор $x=(1,1)$ собственным вектором этого линейного оператора."
   ],
   "cell_type": "markdown",
   "metadata": {}
  },
  {
   "cell_type": "code",
   "execution_count": 18,
   "metadata": {},
   "outputs": [
    {
     "output_type": "stream",
     "name": "stdout",
     "text": [
      "Скалярное произведение: \n[[2]\n [2]]\n\nlambda=2\n\nВектор x является собственным линейного оператора A\n"
     ]
    }
   ],
   "source": [
    "import numpy as np\n",
    "\n",
    "a = np.array([[1, 1], [-1, 3]])\n",
    "x = np.array([[1], [1]])\n",
    "print(f'Скалярное произведение: \\n{np.dot(a, x)}')\n",
    "print(f'\\nlambda=2\\n')\n",
    "print(f'Вектор x является собственным линейного оператора A')"
   ]
  }
 ]
}